{
 "cells": [
  {
   "cell_type": "markdown",
   "id": "911ca0d3-f374-4e41-b195-c13e4c2ff4cc",
   "metadata": {},
   "source": [
    "# Exercise 1\n",
    "\n",
    "## List comprehension\n",
    "\n",
    "1. Write recursive code to generate the n-th Fibonacci number\n",
    "2. Generate the first 35 Fibonacci numbers using a loop\n",
    "3. Generate the first 35 Fibonacci numbers using list comprehension\n",
    "4. Using list comprehension, filter all odd numbers out of the previous list\n",
    "5. Using list comprehension, divide numbers < 1000 by 2, and numbers >= 1000 by 3\n",
    "\n"
   ]
  },
  {
   "cell_type": "code",
   "execution_count": null,
   "id": "5b81f43a-2514-4415-83b8-a356bf1f2147",
   "metadata": {},
   "outputs": [],
   "source": [
    "# 1. Write recursive code to generate the n-th Fibonacci number\n",
    "\n"
   ]
  },
  {
   "cell_type": "code",
   "execution_count": null,
   "id": "822c247e-7647-44ea-9e8e-02d61cebd63f",
   "metadata": {},
   "outputs": [],
   "source": [
    "# 2. Generate the first 35 Fibonacci numbers using a loop\n",
    "\n"
   ]
  },
  {
   "cell_type": "code",
   "execution_count": null,
   "id": "3bb001c1-0c6d-495e-bdfb-53278d724e1f",
   "metadata": {},
   "outputs": [],
   "source": [
    "# 3. Generate the first 35 Fibonacci numbers using list comprehension\n"
   ]
  },
  {
   "cell_type": "code",
   "execution_count": null,
   "id": "fe683985-909a-4b49-ad3e-292e2d3baa57",
   "metadata": {},
   "outputs": [],
   "source": [
    "# 4. Using list comprehension, filter all odd numbers out of the previous list\n"
   ]
  },
  {
   "cell_type": "code",
   "execution_count": null,
   "id": "606aaa7f-c4a1-44be-a64e-4e88a417698b",
   "metadata": {},
   "outputs": [],
   "source": [
    "# 5. Using list comprehension, divide numbers < 1000 by 2, and numbers >= 1000 by 3\n"
   ]
  }
 ],
 "metadata": {
  "kernelspec": {
   "display_name": "Python 3 (ipykernel)",
   "language": "python",
   "name": "python3"
  },
  "language_info": {
   "codemirror_mode": {
    "name": "ipython",
    "version": 3
   },
   "file_extension": ".py",
   "mimetype": "text/x-python",
   "name": "python",
   "nbconvert_exporter": "python",
   "pygments_lexer": "ipython3",
   "version": "3.11.1"
  },
  "vscode": {
   "interpreter": {
    "hash": "5238573367df39f7286bb46f9ff5f08f63a01a80960060ce41e3c79b190280fa"
   }
  }
 },
 "nbformat": 4,
 "nbformat_minor": 5
}
