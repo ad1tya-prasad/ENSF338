{
 "cells": [
  {
   "cell_type": "markdown",
   "metadata": {},
   "source": [
    "# Exercise 6\n",
    "\n",
    "## Timing code\n",
    "\n",
    "This example defines a simple function test_function which returns the squares of the numbers from 0 to 999.\\ \n",
    "Use the timeit function to time how long it takes to run this function 1000 times.\\\n",
    "show the timing results in seconds."
   ]
  },
  {
   "cell_type": "code",
   "execution_count": 4,
   "metadata": {},
   "outputs": [
    {
     "name": "stdout",
     "output_type": "stream",
     "text": [
      "0.27885270900003434\n"
     ]
    }
   ],
   "source": [
    "# Define a function to be timed\n",
    "def test_function():\n",
    "    return [i**2 for i in range(1000)]\n",
    "\n",
    "# Time the function using timeit\n",
    "import timeit\n",
    "elapsed_time = timeit.timeit(test_function, number=1000)\n",
    "\n",
    "# Print the results\n",
    "print(elapsed_time)\n"
   ]
  }
 ],
 "metadata": {
  "kernelspec": {
   "display_name": "Python 3",
   "language": "python",
   "name": "python3"
  },
  "language_info": {
   "codemirror_mode": {
    "name": "ipython",
    "version": 3
   },
   "file_extension": ".py",
   "mimetype": "text/x-python",
   "name": "python",
   "nbconvert_exporter": "python",
   "pygments_lexer": "ipython3",
   "version": "3.9.6"
  },
  "vscode": {
   "interpreter": {
    "hash": "31f2aee4e71d21fbe5cf8b01ff0e069b9275f58929596ceb00d14d90e3e16cd6"
   }
  }
 },
 "nbformat": 4,
 "nbformat_minor": 4
}
