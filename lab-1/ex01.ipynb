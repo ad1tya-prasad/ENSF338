{
 "cells": [
  {
   "cell_type": "markdown",
   "id": "911ca0d3-f374-4e41-b195-c13e4c2ff4cc",
   "metadata": {},
   "source": [
    "# Exercise 1\n",
    "\n",
    "## List comprehension\n",
    "\n",
    "1. Write recursive code to generate the n-th Fibonacci number\n",
    "2. Generate the first 35 Fibonacci numbers using a loop\n",
    "3. Generate the first 35 Fibonacci numbers using list comprehension\n",
    "4. Using list comprehension, filter all odd numbers out of the previous list\n",
    "5. Using list comprehension, divide numbers < 1000 by 2, and numbers >= 1000 by 3\n",
    "\n"
   ]
  },
  {
   "cell_type": "code",
   "execution_count": 2,
   "id": "5b81f43a-2514-4415-83b8-a356bf1f2147",
   "metadata": {},
   "outputs": [],
   "source": [
    "# 1. Write recursive code to generate the n-th Fibonacci number\n",
    "\n",
    "def fib(n):\n",
    "    if n == 0:\n",
    "        return 0\n",
    "    elif n == 1:\n",
    "        return 1\n",
    "    else:\n",
    "        return fib(n-1) + fib(n-2)"
   ]
  },
  {
   "cell_type": "code",
   "execution_count": 7,
   "id": "822c247e-7647-44ea-9e8e-02d61cebd63f",
   "metadata": {},
   "outputs": [
    {
     "name": "stdout",
     "output_type": "stream",
     "text": [
      "[0, 1, 1, 2, 3, 5, 8, 13, 21, 34, 55, 89, 144, 233, 377, 610, 987, 1597, 2584, 4181, 6765, 10946, 17711, 28657, 46368, 75025, 121393, 196418, 317811, 514229, 832040, 1346269, 2178309, 3524578, 5702887]\n"
     ]
    }
   ],
   "source": [
    "# 2. Generate the first 35 Fibonacci numbers using a loop\n",
    "\n",
    "fibonacci_numbers = [0, 1]\n",
    "\n",
    "for i in range(2,35):\n",
    "    fibonacci_numbers.append(fibonacci_numbers[i-1] + fibonacci_numbers[i-2])\n",
    "    \n",
    "print(fibonacci_numbers)\n"
   ]
  },
  {
   "cell_type": "code",
   "execution_count": 4,
   "id": "3bb001c1-0c6d-495e-bdfb-53278d724e1f",
   "metadata": {},
   "outputs": [
    {
     "name": "stdout",
     "output_type": "stream",
     "text": [
      "[0, 1, 1, 2, 3, 5, 8, 13, 21, 34, 55, 89, 144, 233, 377, 610, 987, 1597, 2584, 4181, 6765, 10946, 17711, 28657, 46368, 75025, 121393, 196418, 317811, 514229, 832040, 1346269, 2178309, 3524578, 5702887]\n"
     ]
    }
   ],
   "source": [
    "# 3. Generate the first 35 Fibonacci numbers using list comprehension\n",
    "\n",
    "fibonacci_numbers = [fib(i) for i in range(35)]\n",
    "print(fibonacci_numbers)"
   ]
  },
  {
   "cell_type": "code",
   "execution_count": 5,
   "id": "fe683985-909a-4b49-ad3e-292e2d3baa57",
   "metadata": {},
   "outputs": [
    {
     "name": "stdout",
     "output_type": "stream",
     "text": [
      "[0, 2, 8, 34, 144, 610, 2584, 10946, 46368, 196418, 832040, 3524578]\n"
     ]
    }
   ],
   "source": [
    "# 4. Using list comprehension, filter all odd numbers out of the previous list\n",
    "fibonacci_numbers = [fib(i) for i in range(35)]\n",
    "even_fibonacci_numbers = [x for x in fibonacci_numbers if x % 2 == 0]\n",
    "print(even_fibonacci_numbers)"
   ]
  },
  {
   "cell_type": "code",
   "execution_count": 6,
   "id": "606aaa7f-c4a1-44be-a64e-4e88a417698b",
   "metadata": {},
   "outputs": [
    {
     "name": "stdout",
     "output_type": "stream",
     "text": [
      "[0.0, 0.5, 0.5, 1.0, 1.5, 2.5, 4.0, 6.5, 10.5, 17.0, 27.5, 44.5, 72.0, 116.5, 188.5, 305.0, 493.5, 532.3333333333334, 861.3333333333334, 1393.6666666666667, 2255.0, 3648.6666666666665, 5903.666666666667, 9552.333333333334, 15456.0, 25008.333333333332, 40464.333333333336, 65472.666666666664, 105937.0, 171409.66666666666, 277346.6666666667, 448756.3333333333, 726103.0, 1174859.3333333333, 1900962.3333333333]\n"
     ]
    }
   ],
   "source": [
    "# 5. Using list comprehension, divide numbers < 1000 by 2, and numbers >= 1000 by 3\n",
    "numbers = [fib(i) for i in range(35)]\n",
    "divided_numbers = [x/2 if x < 1000 else x/3 for x in numbers]\n",
    "print(divided_numbers)"
   ]
  }
 ],
 "metadata": {
  "kernelspec": {
   "display_name": "Python 3",
   "language": "python",
   "name": "python3"
  },
  "language_info": {
   "codemirror_mode": {
    "name": "ipython",
    "version": 3
   },
   "file_extension": ".py",
   "mimetype": "text/x-python",
   "name": "python",
   "nbconvert_exporter": "python",
   "pygments_lexer": "ipython3",
   "version": "3.9.6"
  },
  "vscode": {
   "interpreter": {
    "hash": "31f2aee4e71d21fbe5cf8b01ff0e069b9275f58929596ceb00d14d90e3e16cd6"
   }
  }
 },
 "nbformat": 4,
 "nbformat_minor": 5
}
