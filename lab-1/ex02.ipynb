{
 "cells": [
  {
   "attachments": {},
   "cell_type": "markdown",
   "id": "6bc09025-3a05-4591-b589-0a5c418640df",
   "metadata": {},
   "source": [
    "# File access\n",
    "\n",
    "First, download the file at the following URL:\n",
    "\n",
    "```\n",
    "https://raw.githubusercontent.com/ldklab/ensf338w23/main/labs/lab01/lab02data.json\n",
    "\n",
    "```\n",
    "\n",
    "Then, write a Python program that does the following:\n",
    "\n",
    "1. Load the file\n",
    "2. In every record, rename the record 'Initial release date' to 'Initial release'\n",
    "3. Extend the file by duplicating the existing records 10 times\n",
    "4. Save the file with a different name\n",
    "5. **Bonus:** load the file directly from the URL\n"
   ]
  },
  {
   "cell_type": "code",
   "execution_count": 3,
   "id": "0924236f-0d3f-451d-a0d9-a509a6047fe7",
   "metadata": {},
   "outputs": [],
   "source": [
    "# 1. Load the file\n",
    "\n",
    "import json\n",
    "\n",
    "with open('/Users/aditya/second-year:course-work/semester-2/ENSF338/lab-1/lab02data.json', 'r') as f:\n",
    "    data = json.load(f)"
   ]
  },
  {
   "cell_type": "code",
   "execution_count": 12,
   "id": "d66ad4b0-a5b6-4e0a-b8ca-b2ca84d2dfeb",
   "metadata": {},
   "outputs": [],
   "source": [
    "# 2. In every record, rename the record 'Initial release date' to 'Initial release'\n",
    "\n",
    "for record in data:\n",
    "    record['Initial release'] = record.pop('Initial release date')\n"
   ]
  },
  {
   "cell_type": "code",
   "execution_count": 15,
   "id": "506c20a5-34e1-4207-a63b-6cc083da86fe",
   "metadata": {},
   "outputs": [
    {
     "ename": "KeyboardInterrupt",
     "evalue": "",
     "output_type": "error",
     "traceback": [
      "\u001b[0;31m---------------------------------------------------------------------------\u001b[0m",
      "\u001b[0;31mKeyboardInterrupt\u001b[0m                         Traceback (most recent call last)",
      "Cell \u001b[0;32mIn[15], line 6\u001b[0m\n\u001b[1;32m      4\u001b[0m \u001b[39mfor\u001b[39;00m i \u001b[39min\u001b[39;00m \u001b[39mrange\u001b[39m(\u001b[39m10\u001b[39m):\n\u001b[1;32m      5\u001b[0m     \u001b[39mfor\u001b[39;00m record \u001b[39min\u001b[39;00m data:\n\u001b[0;32m----> 6\u001b[0m         new_data\u001b[39m.\u001b[39mappend(record)\n",
      "\u001b[0;31mKeyboardInterrupt\u001b[0m: "
     ]
    }
   ],
   "source": [
    "# 3. Extend the file by duplicating the existing records 10 times\n",
    "# Create a new list and add the existing records 10 times\n",
    "new_data = []\n",
    "for i in range(10):\n",
    "    for record in data:\n",
    "        new_data.append(record)\n"
   ]
  },
  {
   "cell_type": "code",
   "execution_count": 6,
   "id": "387c65ef-f110-4118-bdfd-46bca9fd2806",
   "metadata": {},
   "outputs": [],
   "source": [
    "# 4. Save the file with a different name\n",
    "with open ('/Users/aditya/second-year:course-work/semester-2/ENSF338/lab-1/lab02data2.json', 'w') as f:\n",
    "    json.dump(new_data, f, indent=4)"
   ]
  },
  {
   "cell_type": "code",
   "execution_count": 9,
   "id": "e4825f0b-4aa4-4f48-ac63-d0de2d875cad",
   "metadata": {},
   "outputs": [],
   "source": [
    "# 5. **Bonus:** load the file directly from the URL\n"
   ]
  }
 ],
 "metadata": {
  "kernelspec": {
   "display_name": "Python 3",
   "language": "python",
   "name": "python3"
  },
  "language_info": {
   "codemirror_mode": {
    "name": "ipython",
    "version": 3
   },
   "file_extension": ".py",
   "mimetype": "text/x-python",
   "name": "python",
   "nbconvert_exporter": "python",
   "pygments_lexer": "ipython3",
   "version": "3.9.6 (default, Sep 26 2022, 11:37:49) \n[Clang 14.0.0 (clang-1400.0.29.202)]"
  },
  "vscode": {
   "interpreter": {
    "hash": "31f2aee4e71d21fbe5cf8b01ff0e069b9275f58929596ceb00d14d90e3e16cd6"
   }
  }
 },
 "nbformat": 4,
 "nbformat_minor": 5
}
