{
 "cells": [
  {
   "attachments": {},
   "cell_type": "markdown",
   "id": "6bc09025-3a05-4591-b589-0a5c418640df",
   "metadata": {},
   "source": [
    "# File access\n",
    "\n",
    "First, download the file at the following URL:\n",
    "\n",
    "```\n",
    "https://raw.githubusercontent.com/ldklab/ensf338w23/main/labs/lab01/lab02data.json\n",
    "\n",
    "```\n",
    "\n",
    "Then, write a Python program that does the following:\n",
    "\n",
    "1. Load the file\n",
    "2. In every record, rename the record 'Initial release date' to 'Initial release'\n",
    "3. Extend the file by duplicating the existing records 10 times\n",
    "4. Save the file with a different name\n",
    "5. **Bonus:** load the file directly from the URL\n"
   ]
  },
  {
   "cell_type": "code",
   "execution_count": 4,
   "id": "0924236f-0d3f-451d-a0d9-a509a6047fe7",
   "metadata": {},
   "outputs": [],
   "source": [
    "# 1. Load the file\n"
   ]
  },
  {
   "cell_type": "code",
   "execution_count": 5,
   "id": "d66ad4b0-a5b6-4e0a-b8ca-b2ca84d2dfeb",
   "metadata": {},
   "outputs": [],
   "source": [
    "# 2. In every record, rename the record 'Initial release date' to 'Initial release'\n",
    "\n"
   ]
  },
  {
   "cell_type": "code",
   "execution_count": 6,
   "id": "506c20a5-34e1-4207-a63b-6cc083da86fe",
   "metadata": {},
   "outputs": [],
   "source": [
    "# 3. Extend the file by duplicating the existing records 10 times\n"
   ]
  },
  {
   "cell_type": "code",
   "execution_count": 7,
   "id": "387c65ef-f110-4118-bdfd-46bca9fd2806",
   "metadata": {},
   "outputs": [],
   "source": [
    "# 4. Save the file with a different name\n"
   ]
  },
  {
   "cell_type": "code",
   "execution_count": 9,
   "id": "e4825f0b-4aa4-4f48-ac63-d0de2d875cad",
   "metadata": {},
   "outputs": [],
   "source": [
    "# 5. **Bonus:** load the file directly from the URL\n"
   ]
  }
 ],
 "metadata": {
  "kernelspec": {
   "display_name": "Python 3",
   "language": "python",
   "name": "python3"
  },
  "language_info": {
   "codemirror_mode": {
    "name": "ipython",
    "version": 3
   },
   "file_extension": ".py",
   "mimetype": "text/x-python",
   "name": "python",
   "nbconvert_exporter": "python",
   "pygments_lexer": "ipython3",
   "version": "3.11.1 (tags/v3.11.1:a7a450f, Dec  6 2022, 19:58:39) [MSC v.1934 64 bit (AMD64)]"
  },
  "vscode": {
   "interpreter": {
    "hash": "5238573367df39f7286bb46f9ff5f08f63a01a80960060ce41e3c79b190280fa"
   }
  }
 },
 "nbformat": 4,
 "nbformat_minor": 5
}
