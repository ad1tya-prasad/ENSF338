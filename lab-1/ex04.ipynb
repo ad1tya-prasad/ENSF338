{
 "cells": [
  {
   "cell_type": "markdown",
   "id": "28be3464-b88a-45cc-aa93-7b943ca4b40d",
   "metadata": {},
   "source": [
    "# Find the error\n",
    "\n",
    "Consider a proof-of-concept service that, given two numbers, is going to compute the ratio between them and express it as a percentage. The service is accessed by sending a HTTP POST request (*don't worry about that*) containing a JSON file in the following format:\n",
    "\n",
    "```\n",
    "{\n",
    "    \"numerator\": 2.0,\n",
    "    \"denominator\": 5.0\n",
    "}\n",
    "```\n",
    "\n",
    "And this is the code:"
   ]
  },
  {
   "cell_type": "code",
   "execution_count": 1,
   "id": "fa254899-785c-4d59-ab49-41f2645200e2",
   "metadata": {},
   "outputs": [
    {
     "ename": "KeyboardInterrupt",
     "evalue": "",
     "output_type": "error",
     "traceback": [
      "\u001b[0;31m---------------------------------------------------------------------------\u001b[0m",
      "\u001b[0;31mKeyboardInterrupt\u001b[0m                         Traceback (most recent call last)",
      "Cell \u001b[0;32mIn[1], line 16\u001b[0m\n\u001b[1;32m     14\u001b[0m s\u001b[39m.\u001b[39mlisten()\n\u001b[1;32m     15\u001b[0m \u001b[39mwhile\u001b[39;00m \u001b[39mTrue\u001b[39;00m:\n\u001b[0;32m---> 16\u001b[0m     conn, addr \u001b[39m=\u001b[39m s\u001b[39m.\u001b[39;49maccept()\n\u001b[1;32m     17\u001b[0m     data \u001b[39m=\u001b[39m conn\u001b[39m.\u001b[39mrecv(\u001b[39m1024\u001b[39m)\n\u001b[1;32m     18\u001b[0m     val \u001b[39m=\u001b[39m processData(data)\n",
      "File \u001b[0;32m/Library/Developer/CommandLineTools/Library/Frameworks/Python3.framework/Versions/3.9/lib/python3.9/socket.py:293\u001b[0m, in \u001b[0;36msocket.accept\u001b[0;34m(self)\u001b[0m\n\u001b[1;32m    286\u001b[0m \u001b[39mdef\u001b[39;00m \u001b[39maccept\u001b[39m(\u001b[39mself\u001b[39m):\n\u001b[1;32m    287\u001b[0m \u001b[39m    \u001b[39m\u001b[39m\"\"\"accept() -> (socket object, address info)\u001b[39;00m\n\u001b[1;32m    288\u001b[0m \n\u001b[1;32m    289\u001b[0m \u001b[39m    Wait for an incoming connection.  Return a new socket\u001b[39;00m\n\u001b[1;32m    290\u001b[0m \u001b[39m    representing the connection, and the address of the client.\u001b[39;00m\n\u001b[1;32m    291\u001b[0m \u001b[39m    For IP sockets, the address info is a pair (hostaddr, port).\u001b[39;00m\n\u001b[1;32m    292\u001b[0m \u001b[39m    \"\"\"\u001b[39;00m\n\u001b[0;32m--> 293\u001b[0m     fd, addr \u001b[39m=\u001b[39m \u001b[39mself\u001b[39;49m\u001b[39m.\u001b[39;49m_accept()\n\u001b[1;32m    294\u001b[0m     sock \u001b[39m=\u001b[39m socket(\u001b[39mself\u001b[39m\u001b[39m.\u001b[39mfamily, \u001b[39mself\u001b[39m\u001b[39m.\u001b[39mtype, \u001b[39mself\u001b[39m\u001b[39m.\u001b[39mproto, fileno\u001b[39m=\u001b[39mfd)\n\u001b[1;32m    295\u001b[0m     \u001b[39m# Issue #7995: if no default timeout is set and the listening\u001b[39;00m\n\u001b[1;32m    296\u001b[0m     \u001b[39m# socket had a (non-zero) timeout, force the new socket in blocking\u001b[39;00m\n\u001b[1;32m    297\u001b[0m     \u001b[39m# mode to override platform-specific socket flags inheritance.\u001b[39;00m\n",
      "\u001b[0;31mKeyboardInterrupt\u001b[0m: "
     ]
    }
   ],
   "source": [
    "import socket\n",
    "import json\n",
    "    \n",
    "def processData(data):\n",
    "    content = json.loads(data)\n",
    "    num = float(content['numerator'])\n",
    "    den = float(content['denominator'])\n",
    "    return (num/den)*100.0\n",
    "    \n",
    "\n",
    "# Don't worry too much about what happens below this line\n",
    "s = socket.socket(socket.AF_INET, socket.SOCK_STREAM)\n",
    "s.setsockopt(socket.SOL_SOCKET, socket.SO_REUSEADDR, 1)\n",
    "s.bind(('localhost', 8080))\n",
    "s.listen()\n",
    "while True:\n",
    "    conn, addr = s.accept()\n",
    "    data = conn.recv(1024)\n",
    "    val = processData(data)\n",
    "    conn.sendall(str(val).encode('utf-8'))\n",
    "    conn.close()\n"
   ]
  },
  {
   "cell_type": "markdown",
   "id": "0b1dd902-2554-414c-a5cd-5825e57d5bd2",
   "metadata": {},
   "source": [
    "1. Suppose I am a bad guy who wants your application to crash. Find one way I can accomplish that.\n",
    "2. Now, find another way I can accomplish that :-)"
   ]
  }
 ],
 "metadata": {
  "kernelspec": {
   "display_name": "Python 3",
   "language": "python",
   "name": "python3"
  },
  "language_info": {
   "codemirror_mode": {
    "name": "ipython",
    "version": 3
   },
   "file_extension": ".py",
   "mimetype": "text/x-python",
   "name": "python",
   "nbconvert_exporter": "python",
   "pygments_lexer": "ipython3",
   "version": "3.9.6"
  },
  "vscode": {
   "interpreter": {
    "hash": "31f2aee4e71d21fbe5cf8b01ff0e069b9275f58929596ceb00d14d90e3e16cd6"
   }
  }
 },
 "nbformat": 4,
 "nbformat_minor": 5
}
